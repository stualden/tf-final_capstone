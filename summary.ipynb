{
 "cells": [
  {
   "cell_type": "markdown",
   "id": "7f0e8ff3",
   "metadata": {},
   "source": [
    "### Summary of Findings\n",
    "\n",
    "* Identifying genres of digital music tracks is hard; a human's perception of music genre and style is complex.\n",
    "\n",
    "* Supervised learning performance is not too bad using a random forest approach (roughly 80% ARI).  This would be sufficient as a \"first pass,\" but even 20% false genre assignments could potentially be annoying.\n",
    "    * I plan to use the model against new music as it's added to my library to see how useful I find it.\n",
    "\n",
    "*  Unsupervised learning performance was not good at all.  Raising performance there to anything that would be useful would need revised feature selection, at a minimum."
   ]
  },
  {
   "cell_type": "markdown",
   "id": "a7223f78",
   "metadata": {
    "slideshow": {
     "slide_type": "slide"
    }
   },
   "source": [
    "### Lessons Learned, Next Steps\n",
    "\n",
    "* Even by using a fairly powerful computer (8-core, 32G VM running Ubuntu), I had to be careful not to run into problems with processing speed and memory usage.  Beyond finding even more powerful hardware, I may need to explore one or more of the following:\n",
    "    * Parallelizing some of the processes, e.g. with a tool like `pandarallel`.\n",
    "    * Using more efficient data structures - e.g., `numpy` arrays rather than `pandas` dataframes.\n",
    "    * Moving to dask objects and routines if necessary.\n",
    "    * Further segmentation of the work into separate notebooks, \"pipelining\" the results of one notebook to another by writing intermediate files to disk.\n",
    "    \n",
    "* Successful clustering may require an expansion of the genre concept, e.g. tracks can belong to more than one genre.\n",
    "    * This in turn would suggest that I try a \"soft-clustering\" approach.\n",
    "    \n",
    "* If I can produce a useful model, I want to try placing the predicted genre back into the MP3 files.\n",
    "    * There is a library called eyeD3 which can do this.\n"
   ]
  },
  {
   "cell_type": "code",
   "execution_count": null,
   "id": "91d2bc05",
   "metadata": {},
   "outputs": [],
   "source": []
  }
 ],
 "metadata": {
  "celltoolbar": "Slideshow",
  "kernelspec": {
   "display_name": "Python 3",
   "language": "python",
   "name": "python3"
  },
  "language_info": {
   "codemirror_mode": {
    "name": "ipython",
    "version": 3
   },
   "file_extension": ".py",
   "mimetype": "text/x-python",
   "name": "python",
   "nbconvert_exporter": "python",
   "pygments_lexer": "ipython3",
   "version": "3.8.8"
  }
 },
 "nbformat": 4,
 "nbformat_minor": 5
}
