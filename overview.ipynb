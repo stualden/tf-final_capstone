{
 "cells": [
  {
   "cell_type": "markdown",
   "id": "982d65cd",
   "metadata": {
    "slideshow": {
     "slide_type": "notes"
    }
   },
   "source": [
    "##### Overview for Final Capstone Project\n",
    "##### Genre Classification for Music Library\n",
    "##### Stu Alden, Thinkful Data Science Flex\n",
    "\n",
    "This project is large enough so that, unlike the previous Capstones, it seemed best distributed over a number of notebooks.  Here they are, in \"pipeline\" order (and also the order recommended for review):\n",
    "\n",
    "*  **overview.ipynb** - This notebook.\n",
    "*  **feature_\\*.ipynb** (one for each of six genres - blues, country, folk, jazz, new_age, and world) - Feature extraction from the digital music (MP3) files.\n",
    "    * These use the `libROSA` library of audio tools to extract statistics from the waveforms.\n",
    "    * They are separated by genre to facilitate a \"poor man's parallelization\" (running simultaneous notebooks on an 8-core processor) to speed up the run-times.\n",
    "    * The first genre (alphabetically) is **blues**, and that notebook includes some helpful visualizations on a single test track of music.  The remaining genre notebooks contain only the feature extraction code.\n",
    "* **ead_and_feature_selection.ipynb** - Basic feature analysis, including some supervised learning to discern feature importance, and PCA for potential dimensionality reduction.  The final step here is to write out files to be used as input to the supervised and unsupervised learning notebooks.\n",
    "* **supervised.ipynb** - Supervised algorithms applied to the features and tuned to maximize predictive performance.\n",
    "* **unsupervised.ipynb** -- Clustering algorithms applied to the features to evaluate the feasibility of prediction of existing genres and perhaps identification of not-yet-identified genres.\n",
    "* **summary.ipynb** - Conclusion, with summary of findings, obstacles, lessons learned, and suggested next steps.\n",
    "\n",
    "Please note:\n",
    "* Because I've used `hvplot` in places, these notebooks may not show properly in Google Colab.  Please use nbviewer or native Jupyter Notebook instead if available.\n",
    "* For the presentation, I anticipate showing a subset of cells from all notebooks in the order listed above, subject to any recommendations from the reviewer.\n",
    "* Where useful, I'll be using the RISE notebook extension to show the cells as slides."
   ]
  },
  {
   "cell_type": "markdown",
   "id": "ac38c8f6",
   "metadata": {
    "slideshow": {
     "slide_type": "slide"
    }
   },
   "source": [
    "### Genre Classification for Music Library\n",
    "#### Thinkful Data Science program - Final Capstone\n",
    "#### Stu Alden\n",
    "#### May 12, 2021\n",
    "\n",
    "**Note:**  This notebook likely will not be properly viewable in Google Colab - please use nbviewer (https://nbviewer.jupyter.org/) or native Jupyter Notebook instead. To view select cells as presentation slides, please use the `RISE` notebook extension."
   ]
  },
  {
   "cell_type": "markdown",
   "id": "25475e3b",
   "metadata": {
    "slideshow": {
     "slide_type": "slide"
    }
   },
   "source": [
    "### Background\n",
    "* I have a very large music library, built from ripping files off of my CDs and converting the files to MP3 format to save on storage space.  \n",
    "* The files are organized at the top level by \"genre,\" which has proved a more challenging concept that I would have originally expected - for example, many artists straddle multiple genres. \n",
    "* Genre seems to be a function not only of instrumentation, but tempo, rhythm, volume and other factors."
   ]
  },
  {
   "cell_type": "markdown",
   "id": "87d057c3",
   "metadata": {
    "slideshow": {
     "slide_type": "slide"
    }
   },
   "source": [
    "* I wanted to see if the genre of a particular musical track could be deduced from a close examination of the sound waveform.  \n",
    "\n",
    "* Besides offering an interesting data science challenge, I could use such a tool for validating existing genre tagging in my library\n",
    "\n",
    "* It would also be valuable to suggesting a genre for new music, and even possibly suggest new genres.\n",
    "* To keep the project more manageable, I have avoided the rock and classical genres for the time being.\n"
   ]
  },
  {
   "cell_type": "markdown",
   "id": "9510a6f6",
   "metadata": {
    "slideshow": {
     "slide_type": "slide"
    }
   },
   "source": [
    "* The goal of this project was to make use of the concepts we've learned in the Thinkful course, including\n",
    "\n",
    "    * Data gathering and manipulation\n",
    "    * Exploratory data analysis and feature selection\n",
    "    * Supervised learning\n",
    "    * Unsupervised learning\n",
    "\n",
    "* Also, although this project wouldn't meet a modern definition of \"big data,\" I deliberately chose a dataset large enough to \"stress\" the computational power (speed and memory) I currently have available.  I address some of the resulting findings in the project summary."
   ]
  },
  {
   "cell_type": "markdown",
   "id": "bde43893",
   "metadata": {
    "slideshow": {
     "slide_type": "slide"
    }
   },
   "source": [
    "In addition to the Thinkful course, I picked up a number of ideas from the following  project:\n",
    "\n",
    "\"Music Genre Classification Using Supervised and Unsupervised Learning\" by William Easterby, May 13, 2020\n",
    "\n",
    "https://medium.com/@weasterby/music-genre-classification-using-supervised-and-unsupervised-learning-cf1f0837d725\n",
    "\n",
    "This article was particular helpful with introducing me to the capabilities of the `librosa` audio analysis library and suggesting code to help with visualizations.  "
   ]
  },
  {
   "cell_type": "markdown",
   "id": "6a293927",
   "metadata": {
    "slideshow": {
     "slide_type": "slide"
    }
   },
   "source": [
    "The article also introduced me to some other measures of clustering success (besides silhouette coefficients).  My project goes further, particularly in terms of\n",
    "\n",
    "* The size and breadth of the data;\n",
    "* The extent of EDA performed on the features;\n",
    "* The degree of tuning of the machine learning algorithms (my scores are better); and\n",
    "* The manner in which the clustering is evaluated and visualized."
   ]
  },
  {
   "cell_type": "code",
   "execution_count": null,
   "id": "d8f99d5a",
   "metadata": {},
   "outputs": [],
   "source": []
  }
 ],
 "metadata": {
  "celltoolbar": "Slideshow",
  "kernelspec": {
   "display_name": "Python 3",
   "language": "python",
   "name": "python3"
  },
  "language_info": {
   "codemirror_mode": {
    "name": "ipython",
    "version": 3
   },
   "file_extension": ".py",
   "mimetype": "text/x-python",
   "name": "python",
   "nbconvert_exporter": "python",
   "pygments_lexer": "ipython3",
   "version": "3.8.8"
  }
 },
 "nbformat": 4,
 "nbformat_minor": 5
}
